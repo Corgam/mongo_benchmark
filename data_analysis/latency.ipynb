{
 "cells": [
  {
   "cell_type": "code",
   "execution_count": 86,
   "metadata": {},
   "outputs": [],
   "source": [
    "%matplotlib widget\n",
    "import pandas as pd\n",
    "import matplotlib.pyplot as plt\n",
    "DATA_PATH = \"Sorted_Results_29-01-2022_17-37-37.txt.csv\""
   ]
  },
  {
   "cell_type": "code",
   "execution_count": 119,
   "metadata": {},
   "outputs": [],
   "source": [
    "df: pd.DataFrame = pd.read_csv(DATA_PATH)\n",
    "df = df[df.processName == \"Process0\"]\n",
    "df = df[df.action == \"ReceivedResponse\"]\n",
    "df = df[\"latency\"]\n",
    "df = df.dropna()\n",
    "#df.drop(df.tail(8).index, inplace = True)\n",
    "#plt.plot(range(len(df)), df,  '--bo', label='line with marker')\n",
    "plt.plot(range(len(df)), df, color=\"blue\")\n",
    "plt.show()\n",
    "print(\"\")"
   ]
  }
 ],
 "metadata": {
  "interpreter": {
   "hash": "c49e551b880c9cb56e9a73fdc9a52bef3b4f7e51e9c285f2472ea5712cb6df5b"
  },
  "kernelspec": {
   "display_name": "Python 3.9.5 64-bit",
   "language": "python",
   "name": "python3"
  },
  "language_info": {
   "codemirror_mode": {
    "name": "ipython",
    "version": 3
   },
   "file_extension": ".py",
   "mimetype": "text/x-python",
   "name": "python",
   "nbconvert_exporter": "python",
   "pygments_lexer": "ipython3",
   "version": "3.9.5"
  },
  "orig_nbformat": 4
 },
 "nbformat": 4,
 "nbformat_minor": 2
}
