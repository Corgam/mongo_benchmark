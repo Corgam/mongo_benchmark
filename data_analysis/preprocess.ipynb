{
 "cells": [
  {
   "cell_type": "code",
   "execution_count": 1,
   "metadata": {},
   "outputs": [],
   "source": [
    "import pandas as pd\n",
    "DATA_PATH = \"Results_25-01-2022_23-23-20.txt\""
   ]
  },
  {
   "cell_type": "code",
   "execution_count": 2,
   "metadata": {},
   "outputs": [],
   "source": [
    "# Get the header line number\n",
    "with open(DATA_PATH) as f:\n",
    "    content = f.readlines()\n",
    "    lookup = \"HEADER, End\"\n",
    "    header_line_no = [line_num for line_num, line_content in enumerate(content) if lookup in line_content][0]"
   ]
  },
  {
   "cell_type": "code",
   "execution_count": 11,
   "metadata": {},
   "outputs": [],
   "source": [
    "# Load the file, delete the header, sort by time and save in a new file\n",
    "file = pd.read_csv(DATA_PATH, skiprows=header_line_no+1)\n",
    "file[\"time\"] = file[\"date\"] + \",\" + file[\"time\"]\n",
    "file.drop('date',axis='columns', inplace=True)\n",
    "file[\"time\"] = pd.to_datetime(file[\"time\"], format=\"%d/%m/%Y,%H:%M:%S.%f\")\n",
    "file.sort_values(by=\"time\", inplace=True)\n",
    "#print(type(file.time[0]))\n",
    "#print(file.head(10))\n",
    "file.to_csv(\"Sorted_\" + DATA_PATH + \".csv\")"
   ]
  }
 ],
 "metadata": {
  "interpreter": {
   "hash": "c49e551b880c9cb56e9a73fdc9a52bef3b4f7e51e9c285f2472ea5712cb6df5b"
  },
  "kernelspec": {
   "display_name": "Python 3.9.5 64-bit",
   "language": "python",
   "name": "python3"
  },
  "language_info": {
   "codemirror_mode": {
    "name": "ipython",
    "version": 3
   },
   "file_extension": ".py",
   "mimetype": "text/x-python",
   "name": "python",
   "nbconvert_exporter": "python",
   "pygments_lexer": "ipython3",
   "version": "3.9.5"
  },
  "orig_nbformat": 4
 },
 "nbformat": 4,
 "nbformat_minor": 2
}
