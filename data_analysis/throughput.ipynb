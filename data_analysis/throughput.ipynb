{
 "cells": [
  {
   "cell_type": "code",
   "execution_count": 40,
   "metadata": {},
   "outputs": [],
   "source": [
    "%matplotlib widget\n",
    "import pandas as pd\n",
    "import matplotlib.pyplot as plt\n",
    "DATA_PATH = \"Sorted_Results_02-02-2022_15-49-33.txt.csv\""
   ]
  },
  {
   "cell_type": "code",
   "execution_count": 41,
   "metadata": {},
   "outputs": [
    {
     "name": "stdout",
     "output_type": "stream",
     "text": [
      "         Unnamed: 0                        time      phase  processName  \\\n",
      "286539            3  2022-02-02 14:43:32.883464  Benchmark  MainProcess   \n",
      "579248            6  2022-02-02 14:44:33.023620  Benchmark  MainProcess   \n",
      "870513            9  2022-02-02 14:45:33.175412  Benchmark  MainProcess   \n",
      "1160983          12  2022-02-02 14:46:33.331445  Benchmark  MainProcess   \n",
      "1449295          15  2022-02-02 14:47:33.487451  Benchmark  MainProcess   \n",
      "1739854          18  2022-02-02 14:48:33.671451  Benchmark  MainProcess   \n",
      "\n",
      "            action  queryID typeOfQuery  latency  \n",
      "286539   LatencyOk      0.0      143248      NaN  \n",
      "579248   LatencyOk      0.0      146333      NaN  \n",
      "870513   LatencyOk      0.0      145611      NaN  \n",
      "1160983  LatencyOk      0.0      145214      NaN  \n",
      "1449295  LatencyOk      0.0      144134      NaN  \n",
      "1739854  LatencyOk      0.0      145258      NaN  \n",
      "#############\n",
      "         Unnamed: 0                        time      phase processName  \\\n",
      "1740404     1110454  2022-02-02 14:49:14.564176  Benchmark   Process38   \n",
      "\n",
      "          action  queryID typeOfQuery  latency  \n",
      "1740404  Timeout  10527.0         NaN      NaN  \n",
      "#############\n",
      "Unnamed: 0     145258\n",
      "time           145258\n",
      "phase          145258\n",
      "processName    145258\n",
      "action         145258\n",
      "queryID        145258\n",
      "typeOfQuery    145258\n",
      "latency        145258\n",
      "dtype: int64\n"
     ]
    }
   ],
   "source": [
    "df: pd.DataFrame = pd.read_csv(DATA_PATH)\n",
    "df_responses = df[df.action == \"ReceivedResponse\"]\n",
    "df_timeouts = df[df.action == \"Timeout\"]\n",
    "df_latencyOK = df[df.action == \"LatencyOk\"]\n",
    "last_10_Lat = df_latencyOK.tail(10)\n",
    "print(last_10_Lat)\n",
    "print(\"#############\")\n",
    "first_TO = df_timeouts.head(1)\n",
    "start_time = '2022-02-02 14:47:33.487451'\n",
    "end_time = '2022-02-02 14:48:33.671451'\n",
    "mask = (df_responses['time'] > start_time) & (df_responses['time'] <= end_time)\n",
    "final_responses: pd.DataFrame = df_responses.loc[mask]\n",
    "print(first_TO)\n",
    "print(\"#############\")\n",
    "#print(last_10_Lat)\n",
    "#final_responses.to_csv(\"test.csv\")\n",
    "print(final_responses.count())"
   ]
  }
 ],
 "metadata": {
  "interpreter": {
   "hash": "c49e551b880c9cb56e9a73fdc9a52bef3b4f7e51e9c285f2472ea5712cb6df5b"
  },
  "kernelspec": {
   "display_name": "Python 3.9.5 64-bit",
   "language": "python",
   "name": "python3"
  },
  "language_info": {
   "codemirror_mode": {
    "name": "ipython",
    "version": 3
   },
   "file_extension": ".py",
   "mimetype": "text/x-python",
   "name": "python",
   "nbconvert_exporter": "python",
   "pygments_lexer": "ipython3",
   "version": "3.9.5"
  },
  "orig_nbformat": 4
 },
 "nbformat": 4,
 "nbformat_minor": 2
}
